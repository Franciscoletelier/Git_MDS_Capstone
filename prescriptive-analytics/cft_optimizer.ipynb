{
 "cells": [
  {
   "cell_type": "markdown",
   "metadata": {},
   "source": [
    "## Solver CFT Program"
   ]
  },
  {
   "cell_type": "code",
   "execution_count": 60,
   "metadata": {},
   "outputs": [],
   "source": [
    "# -*- coding: utf-8 -*-\n",
    "# Kernel: Python 3.9.12\n",
    "\n",
    "# Install OR-Tools for Python\n",
    "# !pip install ortools\n",
    "# !pip3 install --upgrade --user ortools\n",
    "\n",
    "# https://developers.google.com/optimization/examples"
   ]
  },
  {
   "cell_type": "markdown",
   "metadata": {},
   "source": [
    "### Import the required libraries."
   ]
  },
  {
   "cell_type": "code",
   "execution_count": 48,
   "metadata": {},
   "outputs": [
    {
     "name": "stdout",
     "output_type": "stream",
     "text": [
      "Requirement already satisfied: ortools in /Applications/anaconda3/lib/python3.9/site-packages (9.4.1874)\n",
      "Requirement already satisfied: absl-py>=0.13 in /Applications/anaconda3/lib/python3.9/site-packages (from ortools) (1.2.0)\n",
      "Requirement already satisfied: numpy>=1.13.3 in /Applications/anaconda3/lib/python3.9/site-packages (from ortools) (1.21.5)\n",
      "Requirement already satisfied: protobuf>=3.19.4 in /Applications/anaconda3/lib/python3.9/site-packages (from ortools) (3.20.0)\n",
      "Note: you may need to restart the kernel to use updated packages.\n",
      "Requirement already satisfied: ortools in /Applications/anaconda3/lib/python3.9/site-packages (9.4.1874)\n",
      "Requirement already satisfied: numpy>=1.13.3 in /Applications/anaconda3/lib/python3.9/site-packages (from ortools) (1.21.5)\n",
      "Requirement already satisfied: absl-py>=0.13 in /Applications/anaconda3/lib/python3.9/site-packages (from ortools) (1.2.0)\n",
      "Requirement already satisfied: protobuf>=3.19.4 in /Applications/anaconda3/lib/python3.9/site-packages (from ortools) (3.20.0)\n"
     ]
    }
   ],
   "source": [
    "%pip install ortools\n",
    "!pip3 install --upgrade --user ortools"
   ]
  },
  {
   "cell_type": "code",
   "execution_count": 49,
   "metadata": {},
   "outputs": [],
   "source": [
    "# from absl import app\n",
    "# from absl import flags\n",
    "\n",
    "from google.protobuf import text_format\n",
    "from ortools.sat.python import cp_model\n",
    "\n",
    "\n",
    "import pandas as pd\n",
    "import numpy as np"
   ]
  },
  {
   "cell_type": "markdown",
   "metadata": {},
   "source": [
    "### Declare the Demand"
   ]
  },
  {
   "cell_type": "code",
   "execution_count": 50,
   "metadata": {},
   "outputs": [],
   "source": [
    "# Numero de atenciones por dia/semana/mes a optimizar\n",
    "# demand = [14, 13, 15, 16, 19, 18, 11]\n"
   ]
  },
  {
   "cell_type": "markdown",
   "metadata": {},
   "source": [
    "### Declare the solver.\n"
   ]
  },
  {
   "cell_type": "code",
   "execution_count": 51,
   "metadata": {},
   "outputs": [],
   "source": [
    "model = cp_model.CpModel()"
   ]
  },
  {
   "cell_type": "markdown",
   "metadata": {},
   "source": [
    "### Create the variables."
   ]
  },
  {
   "cell_type": "code",
   "execution_count": 52,
   "metadata": {},
   "outputs": [],
   "source": [
    "num_prof = 4\n",
    "num_shifts = 3\n",
    "num_days = 3\n",
    "all_prof = range(num_prof)\n",
    "all_shifts = range(num_shifts)\n",
    "all_days = range(num_days)\n",
    "\n",
    "\n",
    "# La matriz define las asignaciones para los turnos a las enfermeras de la siguiente manera:\n",
    "# shifts [(n, d, s)] es igual a 1 si el turno s se asigna a la enfermera n el día d, y 0 de lo contrario.\n",
    "\n",
    "shifts = {}\n",
    "for n in all_prof:\n",
    "    for d in all_days:\n",
    "        for s in all_shifts:\n",
    "            shifts[(n, d, s)] = model.NewBoolVar('shift_n%id%is%i' % (n, d, s))"
   ]
  },
  {
   "cell_type": "markdown",
   "metadata": {},
   "source": [
    "### Define the constraints.\n",
    "\n",
    "#### Asignación de atenciónes\n",
    "* Cada turno se asigna a una sola enfermera al día.\n",
    "* Cada enfermera trabaja como máximo un turno al día.\n",
    "* Este es el código que crea la primera condición."
   ]
  },
  {
   "cell_type": "code",
   "execution_count": 53,
   "metadata": {},
   "outputs": [],
   "source": [
    "for d in all_days:\n",
    "    for s in all_shifts:\n",
    "        model.AddExactlyOne(shifts[(n, d, s)] for n in all_prof)\n",
    "\n",
    "# La última línea dice que para cada turno, la suma de los profesionales asignados a esas atenciones es 1.\n",
    "\n",
    "\n",
    "# A continuación, aquí está el código que requiere que cada profesional trabaje como máximo un turno al día\n",
    "\n",
    "for n in all_prof:\n",
    "    for d in all_days:\n",
    "        model.AddAtMostOne(shifts[(n, d, s)] for s in all_shifts)\n",
    "\n",
    "# Para cada profesional, la suma de los turnos asignados a ese profesional es como máximo 1 (\"a lo sumo\" porque un profesional podría tener el día libre)"
   ]
  },
  {
   "cell_type": "markdown",
   "metadata": {},
   "source": [
    "### Asignar atenciones de manera uniforme\n",
    "A continuación, mostramos cómo asignar turnos a los profesionales de manera más uniforme posible:\n",
    "\n",
    " * Dado que hay (X) atenciones durante el período de (X) días, podemos asignar dos **atenciones** a cada una de los **(X) profesionales** .\n",
    " * Después de eso, quedará una atención, que se puede asignar a cualquier profesional.\n",
    "\n",
    "El siguiente código garantiza que cada profesional trabaje al menos dos atenciones en el período de (X) días."
   ]
  },
  {
   "cell_type": "code",
   "execution_count": 54,
   "metadata": {},
   "outputs": [],
   "source": [
    "# Try to distribute the shifts evenly, so that each nurse works\n",
    "# min_shifts_per_nurse shifts. If this is not possible, because the total\n",
    "# number of shifts is not divisible by the number of nurses, some nurses will\n",
    "# be assigned one more shift.\n",
    "min_shifts_per_prof = (num_shifts * num_days) // num_prof\n",
    "if num_shifts * num_days % num_prof == 0:\n",
    "    max_shifts_per_prof = min_shifts_per_prof\n",
    "else:\n",
    "    max_shifts_per_prof = min_shifts_per_prof + 1\n",
    "for n in all_prof:\n",
    "    num_shifts_worked = []\n",
    "    for d in all_days:\n",
    "        for s in all_shifts:\n",
    "            num_shifts_worked.append(shifts[(n, d, s)])\n",
    "    model.Add(min_shifts_per_prof <= sum(num_shifts_worked))\n",
    "    model.Add(sum(num_shifts_worked) <= max_shifts_per_prof)"
   ]
  },
  {
   "cell_type": "code",
   "execution_count": 55,
   "metadata": {},
   "outputs": [
    {
     "data": {
      "text/plain": [
       "<ortools.sat.python.cp_model.Constraint at 0x118f35160>"
      ]
     },
     "execution_count": 55,
     "metadata": {},
     "output_type": "execute_result"
    }
   ],
   "source": [
    "# so you can assign at least two shifts to each prof. This is guaranteed by the constraint\n",
    "model.Add(min_shifts_per_prof <= sum(num_shifts_worked))\n",
    "\n",
    "# Dado que hay nueve turnos en total durante el período de tres días, queda un turno después de asignar dos turnos a cada enfermera.\n",
    "# El turno extra se puede asignar a cualquier enfermera.\n",
    "# La última línea garantiza que a ningun profesional se le asigne más de un turno adicional.\n",
    "# La restricción no es necesaria en este caso, porque solo hay un turno adicional.\n",
    "# Pero para diferentes valores de parámetros, podría haber varios cambios adicionales, en cuyo caso la restricción es necesaria\n",
    "model.Add(sum(num_shifts_worked) <= max_shifts_per_prof)"
   ]
  },
  {
   "cell_type": "markdown",
   "metadata": {},
   "source": [
    "### Define the objective function."
   ]
  },
  {
   "cell_type": "code",
   "execution_count": null,
   "metadata": {},
   "outputs": [],
   "source": [
    "\n",
    "\n",
    "\n"
   ]
  },
  {
   "cell_type": "markdown",
   "metadata": {},
   "source": [
    "### Invoke the solver and display the results.\n",
    "\n",
    "#### Actualizar los parámetros del solucionador\n",
    " * En un modelo de no optimización, puedes habilitar la búsqueda de todas las soluciones."
   ]
  },
  {
   "cell_type": "code",
   "execution_count": 56,
   "metadata": {},
   "outputs": [],
   "source": [
    "solver = cp_model.CpSolver()\n",
    "solver.parameters.linearization_level = 0\n",
    "# Enumerate all solutions.\n",
    "solver.parameters.enumerate_all_solutions = True"
   ]
  },
  {
   "cell_type": "markdown",
   "metadata": {},
   "source": [
    "### Register a Solutions Callback"
   ]
  },
  {
   "cell_type": "code",
   "execution_count": 57,
   "metadata": {},
   "outputs": [],
   "source": [
    "\n",
    "class ProfPartialSolutionPrinter(cp_model.CpSolverSolutionCallback):\n",
    "    \"\"\"Print intermediate solutions.\"\"\"\n",
    "\n",
    "    def __init__(self, shifts, num_prof, num_days, num_shifts, limit):\n",
    "        cp_model.CpSolverSolutionCallback.__init__(self)\n",
    "        self._shifts = shifts\n",
    "        self._num_prof = num_prof\n",
    "        self._num_days = num_days\n",
    "        self._num_shifts = num_shifts\n",
    "        self._solution_count = 0\n",
    "        self._solution_limit = limit\n",
    "\n",
    "    def on_solution_callback(self):\n",
    "        self._solution_count += 1\n",
    "        print('Solution %i' % self._solution_count)\n",
    "        for d in range(self._num_days):\n",
    "            print('Day %i' % d)\n",
    "            for n in range(self._num_prof):\n",
    "                is_working = False\n",
    "                for s in range(self._num_shifts):\n",
    "                    if self.Value(self._shifts[(n, d, s)]):\n",
    "                        is_working = True\n",
    "                        print('  Profesional %i works shift %i' % (n, s))\n",
    "                if not is_working:\n",
    "                    print('  Profesional {} does not work'.format(n))\n",
    "        if self._solution_count >= self._solution_limit:\n",
    "            print('Stop search after %i solutions' % self._solution_limit)\n",
    "            self.StopSearch()\n",
    "\n",
    "    def solution_count(self):\n",
    "        return self._solution_count\n",
    "\n",
    "# Display the first five solutions.\n",
    "solution_limit = 5\n",
    "solution_printer = ProfPartialSolutionPrinter(shifts, num_prof,\n",
    "                                                num_days, num_shifts,\n",
    "                                                solution_limit)"
   ]
  },
  {
   "cell_type": "markdown",
   "metadata": {},
   "source": [
    "### Invoke the Solver"
   ]
  },
  {
   "cell_type": "code",
   "execution_count": 58,
   "metadata": {},
   "outputs": [
    {
     "name": "stdout",
     "output_type": "stream",
     "text": [
      "Solution 1\n",
      "Day 0\n",
      "  Profesional 0 does not work\n",
      "  Profesional 1 works shift 0\n",
      "  Profesional 2 works shift 1\n",
      "  Profesional 3 works shift 2\n",
      "Day 1\n",
      "  Profesional 0 works shift 2\n",
      "  Profesional 1 does not work\n",
      "  Profesional 2 works shift 1\n",
      "  Profesional 3 works shift 0\n",
      "Day 2\n",
      "  Profesional 0 works shift 2\n",
      "  Profesional 1 works shift 1\n",
      "  Profesional 2 works shift 0\n",
      "  Profesional 3 does not work\n",
      "Solution 2\n",
      "Day 0\n",
      "  Profesional 0 works shift 0\n",
      "  Profesional 1 does not work\n",
      "  Profesional 2 works shift 1\n",
      "  Profesional 3 works shift 2\n",
      "Day 1\n",
      "  Profesional 0 does not work\n",
      "  Profesional 1 works shift 2\n",
      "  Profesional 2 works shift 1\n",
      "  Profesional 3 works shift 0\n",
      "Day 2\n",
      "  Profesional 0 works shift 2\n",
      "  Profesional 1 works shift 1\n",
      "  Profesional 2 works shift 0\n",
      "  Profesional 3 does not work\n",
      "Solution 3\n",
      "Day 0\n",
      "  Profesional 0 works shift 0\n",
      "  Profesional 1 does not work\n",
      "  Profesional 2 works shift 1\n",
      "  Profesional 3 works shift 2\n",
      "Day 1\n",
      "  Profesional 0 works shift 1\n",
      "  Profesional 1 works shift 2\n",
      "  Profesional 2 does not work\n",
      "  Profesional 3 works shift 0\n",
      "Day 2\n",
      "  Profesional 0 works shift 2\n",
      "  Profesional 1 works shift 1\n",
      "  Profesional 2 works shift 0\n",
      "  Profesional 3 does not work\n",
      "Solution 4\n",
      "Day 0\n",
      "  Profesional 0 works shift 0\n",
      "  Profesional 1 does not work\n",
      "  Profesional 2 works shift 1\n",
      "  Profesional 3 works shift 2\n",
      "Day 1\n",
      "  Profesional 0 works shift 2\n",
      "  Profesional 1 works shift 1\n",
      "  Profesional 2 does not work\n",
      "  Profesional 3 works shift 0\n",
      "Day 2\n",
      "  Profesional 0 works shift 2\n",
      "  Profesional 1 works shift 1\n",
      "  Profesional 2 works shift 0\n",
      "  Profesional 3 does not work\n",
      "Solution 5\n",
      "Day 0\n",
      "  Profesional 0 does not work\n",
      "  Profesional 1 works shift 0\n",
      "  Profesional 2 works shift 1\n",
      "  Profesional 3 works shift 2\n",
      "Day 1\n",
      "  Profesional 0 works shift 2\n",
      "  Profesional 1 works shift 1\n",
      "  Profesional 2 does not work\n",
      "  Profesional 3 works shift 0\n",
      "Day 2\n",
      "  Profesional 0 works shift 2\n",
      "  Profesional 1 works shift 1\n",
      "  Profesional 2 works shift 0\n",
      "  Profesional 3 does not work\n",
      "Stop search after 5 solutions\n"
     ]
    },
    {
     "data": {
      "text/plain": [
       "2"
      ]
     },
     "execution_count": 58,
     "metadata": {},
     "output_type": "execute_result"
    }
   ],
   "source": [
    "solver.Solve(model, solution_printer)"
   ]
  },
  {
   "cell_type": "markdown",
   "metadata": {},
   "source": [
    "## Soluciones\n",
    "\n",
    " * Statistics"
   ]
  },
  {
   "cell_type": "code",
   "execution_count": 59,
   "metadata": {},
   "outputs": [
    {
     "name": "stdout",
     "output_type": "stream",
     "text": [
      "\n",
      "Statistics\n",
      "  - conflicts      : 5\n",
      "  - branches       : 142\n",
      "  - wall time      : 0.002153 s\n",
      "  - solutions found: 5\n"
     ]
    }
   ],
   "source": [
    "# Statistics.\n",
    "print('\\nStatistics')\n",
    "print('  - conflicts      : %i' % solver.NumConflicts())\n",
    "print('  - branches       : %i' % solver.NumBranches())\n",
    "print('  - wall time      : %f s' % solver.WallTime())\n",
    "print('  - solutions found: %i' % solution_printer.solution_count())\n",
    "\n",
    "\n",
    "#if __name__ == '__main__': main()"
   ]
  },
  {
   "cell_type": "markdown",
   "metadata": {},
   "source": []
  }
 ],
 "metadata": {
  "kernelspec": {
   "display_name": "Python 3.9.12",
   "language": "python",
   "name": "python3"
  },
  "language_info": {
   "codemirror_mode": {
    "name": "ipython",
    "version": 3
   },
   "file_extension": ".py",
   "mimetype": "text/x-python",
   "name": "python",
   "nbconvert_exporter": "python",
   "pygments_lexer": "ipython3",
   "version": "3.9.12"
  },
  "orig_nbformat": 4,
  "vscode": {
   "interpreter": {
    "hash": "cd78fef2128015050713e82ca51c6520b11aee7c9ee8df750520bbbc7384cbaa"
   }
  }
 },
 "nbformat": 4,
 "nbformat_minor": 2
}
